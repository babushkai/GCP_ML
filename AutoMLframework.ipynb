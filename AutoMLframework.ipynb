{
 "cells": [
  {
   "cell_type": "code",
   "execution_count": 15,
   "id": "7fc0cdc4-b63c-446f-a133-8417bba7d767",
   "metadata": {},
   "outputs": [
    {
     "name": "stdout",
     "output_type": "stream",
     "text": [
      "Creating TabularDataset\n",
      "Create TabularDataset backing LRO: projects/437739257142/locations/us-central1/datasets/8460242797457309696/operations/3800508464493494272\n",
      "TabularDataset created. Resource name: projects/437739257142/locations/us-central1/datasets/8460242797457309696\n",
      "To use this TabularDataset in another session:\n",
      "ds = aiplatform.TabularDataset('projects/437739257142/locations/us-central1/datasets/8460242797457309696')\n",
      "\tDataset: \"test_model\"\n",
      "\tname: \"projects/437739257142/locations/us-central1/datasets/8460242797457309696\"\n"
     ]
    }
   ],
   "source": [
    "#PREPARE DATA\n",
    "from google.cloud import aiplatform\n",
    "project = \"project-daisuke-318402\"\n",
    "location = \"us-central1\"\n",
    "display_name = \"test_model\"\n",
    "bq_source = \"bq://bigquery-public-data.new_york_taxi_trips.tlc_yellow_trips_2022\"\n",
    "\n",
    "aiplatform.init(project=project, location=location)\n",
    "\n",
    "dataset = aiplatform.TabularDataset.create(\n",
    "    display_name=display_name,\n",
    "    bq_source=bq_source,\n",
    ")\n",
    "\n",
    "dataset.wait()\n",
    "\n",
    "print(f'\\tDataset: \"{dataset.display_name}\"')\n",
    "print(f'\\tname: \"{dataset.resource_name}\"')"
   ]
  },
  {
   "cell_type": "code",
   "execution_count": 16,
   "id": "49424057-7165-459b-a4c4-d453ac69eb4b",
   "metadata": {},
   "outputs": [],
   "source": []
  },
  {
   "cell_type": "code",
   "execution_count": null,
   "id": "bdae3b61-c4ad-4a8f-8192-2cc5b6231acd",
   "metadata": {},
   "outputs": [
    {
     "name": "stdout",
     "output_type": "stream",
     "text": [
      "No column transformations provided, so now retrieving columns from dataset in order to set default column transformations.\n",
      "The column transformation of type 'auto' was set for the following columns: ['total_amount', 'rate_code', 'passenger_count', 'mta_tax', 'tip_amount', 'pickup_location_id', 'payment_type', 'dropoff_location_id', 'imp_surcharge', 'airport_fee', 'pickup_datetime', 'data_file_month', 'store_and_fwd_flag', 'extra', 'fare_amount', 'vendor_id', 'dropoff_datetime', 'data_file_year', 'tolls_amount'].\n",
      "No dataset split provided. The service will use a default split.\n",
      "View Training:\n",
      "https://console.cloud.google.com/ai/platform/locations/us-central1/training/8830312847721365504?project=437739257142\n",
      "AutoMLTabularTrainingJob projects/437739257142/locations/us-central1/trainingPipelines/8830312847721365504 current state:\n",
      "PipelineState.PIPELINE_STATE_RUNNING\n",
      "AutoMLTabularTrainingJob projects/437739257142/locations/us-central1/trainingPipelines/8830312847721365504 current state:\n",
      "PipelineState.PIPELINE_STATE_RUNNING\n",
      "AutoMLTabularTrainingJob projects/437739257142/locations/us-central1/trainingPipelines/8830312847721365504 current state:\n",
      "PipelineState.PIPELINE_STATE_RUNNING\n",
      "AutoMLTabularTrainingJob projects/437739257142/locations/us-central1/trainingPipelines/8830312847721365504 current state:\n",
      "PipelineState.PIPELINE_STATE_RUNNING\n",
      "AutoMLTabularTrainingJob projects/437739257142/locations/us-central1/trainingPipelines/8830312847721365504 current state:\n",
      "PipelineState.PIPELINE_STATE_RUNNING\n",
      "AutoMLTabularTrainingJob projects/437739257142/locations/us-central1/trainingPipelines/8830312847721365504 current state:\n",
      "PipelineState.PIPELINE_STATE_RUNNING\n"
     ]
    }
   ],
   "source": [
    "# TRAIN MODEL\n",
    "dataset = aiplatform.TabularDataset(dataset.name)\n",
    "job = aiplatform.AutoMLTabularTrainingJob(display_name=display_na\n",
    "                                          me, optimization_prediction_type='regression')\n",
    "model = job.run(dataset = aiplatform.TabularDataset(dataset.name)dataset=dataset, target_column='trip_distance\n",
    "                ')\n",
    "model.wait()"
   ]
  },
  {
   "cell_type": "code",
   "execution_count": null,
   "id": "42598d32-a60c-46c8-af13-634328978b68",
   "metadata": {},
   "outputs": [],
   "source": [
    "#EVALUATE MODEL\n",
    "from google.cloud import aiplatform\n",
    "\n",
    "\n",
    "def get_model_evaluation_tabular_classification_sample(\n",
    "    project: str,\n",
    "    model_id: str,\n",
    "    evaluation_id: str,\n",
    "    location: str = \"us-central1\",\n",
    "    api_endpoint: str = \"us-central1-aiplatform.googleapis.com\",\n",
    "):\n",
    "    \"\"\"\n",
    "    To obtain evaluation_id run the following commands where LOCATION\n",
    "    is the region where the model is stored, PROJECT is the project ID,\n",
    "    and MODEL_ID is the ID of your model.\n",
    "\n",
    "    model_client = aiplatform.gapic.ModelServiceClient(\n",
    "        client_options={\n",
    "            'api_endpoint':'LOCATION-aiplatform.googleapis.com'\n",
    "            }\n",
    "        )\n",
    "    evaluations = model_client.list_model_evaluations(parent='projects/PROJECT/locations/LOCATION/models/MODEL_ID')\n",
    "    print(\"evaluations:\", evaluations)\n",
    "    \"\"\"\n",
    "    # The AI Platform services require regional API endpoints.\n",
    "    client_options = {\"api_endpoint\": api_endpoint}\n",
    "    # Initialize client that will be used to create and send requests.\n",
    "    # This client only needs to be created once, and can be reused for multiple requests.\n",
    "    client = aiplatform.gapic.ModelServiceClient(client_options=client_options)\n",
    "    name = client.model_evaluation_path(\n",
    "        project=project, location=location, model=model_id, evaluation=evaluation_id\n",
    "    )\n",
    "    response = client.get_model_evaluation(name=name)\n",
    "    print(\"response:\", response)"
   ]
  },
  {
   "cell_type": "code",
   "execution_count": null,
   "id": "af9c031b-9a9c-4437-b086-0fd3e3055b8f",
   "metadata": {},
   "outputs": [],
   "source": []
  }
 ],
 "metadata": {
  "environment": {
   "kernel": "python3",
   "name": "tf2-gpu.2-6.m97",
   "type": "gcloud",
   "uri": "gcr.io/deeplearning-platform-release/tf2-gpu.2-6:m97"
  },
  "kernelspec": {
   "display_name": "Python 3",
   "language": "python",
   "name": "python3"
  },
  "language_info": {
   "codemirror_mode": {
    "name": "ipython",
    "version": 3
   },
   "file_extension": ".py",
   "mimetype": "text/x-python",
   "name": "python",
   "nbconvert_exporter": "python",
   "pygments_lexer": "ipython3",
   "version": "3.7.12"
  }
 },
 "nbformat": 4,
 "nbformat_minor": 5
}
