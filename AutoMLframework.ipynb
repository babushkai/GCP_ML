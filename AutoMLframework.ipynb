{
 "cells": [
  {
   "cell_type": "code",
   "execution_count": 3,
   "id": "7fc0cdc4-b63c-446f-a133-8417bba7d767",
   "metadata": {},
   "outputs": [
    {
     "name": "stdout",
     "output_type": "stream",
     "text": [
      "Creating TabularDataset\n",
      "Create TabularDataset backing LRO: projects/437739257142/locations/us-central1/datasets/8321158974590156800/operations/1196032599617699840\n",
      "TabularDataset created. Resource name: projects/437739257142/locations/us-central1/datasets/8321158974590156800\n",
      "To use this TabularDataset in another session:\n",
      "ds = aiplatform.TabularDataset('projects/437739257142/locations/us-central1/datasets/8321158974590156800')\n",
      "\tDataset: \"test_model\"\n",
      "\tname: \"projects/437739257142/locations/us-central1/datasets/8321158974590156800\"\n"
     ]
    }
   ],
   "source": [
    "#PREPARE DATA\n",
    "from google.cloud import aiplatform\n",
    "project = \"project-daisuke-318402\"\n",
    "location = \"us-central1\"\n",
    "display_name = \"test_model\"\n",
    "bq_source = \"bq://bigquery-public-data.new_york_taxi_trips.tlc_yellow_trips_2022\"\n",
    "\n",
    "aiplatform.init(project=project, location=location)\n",
    "\n",
    "dataset = aiplatform.TabularDataset.create(\n",
    "    display_name=display_name,\n",
    "    bq_source=bq_source,\n",
    ")\n",
    "\n",
    "dataset.wait()\n",
    "\n",
    "print(f'\\tDataset: \"{dataset.display_name}\"')\n",
    "print(f'\\tname: \"{dataset.resource_name}\"')"
   ]
  },
  {
   "cell_type": "code",
   "execution_count": 4,
   "id": "bdae3b61-c4ad-4a8f-8192-2cc5b6231acd",
   "metadata": {},
   "outputs": [
    {
     "ename": "SyntaxError",
     "evalue": "invalid syntax (1422237796.py, line 4)",
     "output_type": "error",
     "traceback": [
      "\u001b[0;36m  File \u001b[0;32m\"/tmp/ipykernel_30421/1422237796.py\"\u001b[0;36m, line \u001b[0;32m4\u001b[0m\n\u001b[0;31m    me, optimization_prediction_type='regression')\u001b[0m\n\u001b[0m     ^\u001b[0m\n\u001b[0;31mSyntaxError\u001b[0m\u001b[0;31m:\u001b[0m invalid syntax\n"
     ]
    }
   ],
   "source": [
    "# TRAIN MODEL\n",
    "dataset = aiplatform.TabularDataset(dataset.name)\n",
    "job = aiplatform.AutoMLTabularTrainingJob(display_name=display_na\n",
    "                                          me, optimization_prediction_type='regression')\n",
    "model = job.run(dataset = aiplatform.TabularDataset(dataset.name)dataset=dataset, target_column='trip_distance\n",
    "                ')\n",
    "model.wait()"
   ]
  },
  {
   "cell_type": "code",
   "execution_count": 1,
   "id": "42598d32-a60c-46c8-af13-634328978b68",
   "metadata": {},
   "outputs": [],
   "source": [
    "#EVALUATE MODEL\n",
    "from google.cloud import aiplatform\n",
    "\n",
    "\n",
    "def get_model_evaluation_tabular_classification_sample(\n",
    "    project: str,\n",
    "    model_id: str,\n",
    "    evaluation_id: str,\n",
    "    location: str = \"us-central1\",\n",
    "    api_endpoint: str = \"us-central1-aiplatform.googleapis.com\",\n",
    "):\n",
    "    \"\"\"\n",
    "    To obtain evaluation_id run the following commands where LOCATION\n",
    "    is the region where the model is stored, PROJECT is the project ID,\n",
    "    and MODEL_ID is the ID of your model.\n",
    "\n",
    "    model_client = aiplatform.gapic.ModelServiceClient(\n",
    "        client_options={\n",
    "            'api_endpoint':'LOCATION-aiplatform.googleapis.com'\n",
    "            }\n",
    "        )\n",
    "    evaluations = model_client.list_model_evaluations(parent='projects/PROJECT/locations/LOCATION/models/MODEL_ID')\n",
    "    print(\"evaluations:\", evaluations)\n",
    "    \"\"\"\n",
    "    # The AI Platform services require regional API endpoints.\n",
    "    client_options = {\"api_endpoint\": api_endpoint}\n",
    "    # Initialize client that will be used to create and send requests.\n",
    "    # This client only needs to be created once, and can be reused for multiple requests.\n",
    "    client = aiplatform.gapic.ModelServiceClient(client_options=client_options)\n",
    "    name = client.model_evaluation_path(\n",
    "        project=project, location=location, model=model_id, evaluation=evaluation_id\n",
    "    )\n",
    "    response = client.get_model_evaluation(name=name)\n",
    "    print(\"response:\", response)"
   ]
  },
  {
   "cell_type": "code",
   "execution_count": 96,
   "id": "f3e072c6-26bb-4a2c-8794-53bdc9b6feac",
   "metadata": {},
   "outputs": [
    {
     "name": "stdout",
     "output_type": "stream",
     "text": [
      "Using endpoint [https://us-central1-aiplatform.googleapis.com/]\n",
      "MODEL_ID             DISPLAY_NAME\n",
      "6972623356285681664  example_20221104020441\n",
      "5501916602972504064  automl\n"
     ]
    }
   ],
   "source": [
    "!gcloud ai models list --region us-central1"
   ]
  },
  {
   "cell_type": "code",
   "execution_count": 100,
   "id": "295bc20f-70df-480d-a184-7604f137db76",
   "metadata": {},
   "outputs": [
    {
     "name": "stderr",
     "output_type": "stream",
     "text": [
      "Using endpoint [https://us-central1-aiplatform.googleapis.com/]\n"
     ]
    },
    {
     "name": "stdout",
     "output_type": "stream",
     "text": [
      "MODEL_ID             DISPLAY_NAME\n",
      "6972623356285681664  example_20221104020441\n",
      "5501916602972504064  automl\n"
     ]
    }
   ],
   "source": [
    "import subprocess\n",
    "out = subprocess.run([\"gcloud ai models list --region us-central1\"], shell=True)"
   ]
  },
  {
   "cell_type": "code",
   "execution_count": 160,
   "id": "c9f2875d-8f3a-465b-a497-ff758dcbe62d",
   "metadata": {},
   "outputs": [
    {
     "name": "stderr",
     "output_type": "stream",
     "text": [
      "Using endpoint [https://us-central1-aiplatform.googleapis.com/]\n"
     ]
    }
   ],
   "source": [
    "out = subprocess.check_output(['gcloud ai models list --region us-central1'], shell=True)"
   ]
  },
  {
   "cell_type": "code",
   "execution_count": 161,
   "id": "0dcc9a2d-9afe-4ecb-8459-62b7ea8c4627",
   "metadata": {},
   "outputs": [
    {
     "data": {
      "text/plain": [
       "b'MODEL_ID             DISPLAY_NAME\\n6972623356285681664  example_20221104020441\\n5501916602972504064  automl\\n'"
      ]
     },
     "execution_count": 161,
     "metadata": {},
     "output_type": "execute_result"
    }
   ],
   "source": [
    "out"
   ]
  },
  {
   "cell_type": "code",
   "execution_count": 155,
   "id": "7e0c1e72-219c-4ced-b5b2-586a2d063aca",
   "metadata": {},
   "outputs": [
    {
     "ename": "AttributeError",
     "evalue": "'list' object has no attribute 'add'",
     "output_type": "error",
     "traceback": [
      "\u001b[0;31m---------------------------------------------------------------------------\u001b[0m",
      "\u001b[0;31mAttributeError\u001b[0m                            Traceback (most recent call last)",
      "\u001b[0;32m/tmp/ipykernel_30421/605112095.py\u001b[0m in \u001b[0;36m<module>\u001b[0;34m\u001b[0m\n\u001b[0;32m----> 1\u001b[0;31m \u001b[0mid_list\u001b[0m\u001b[0;34m.\u001b[0m\u001b[0madd\u001b[0m\u001b[0;34m(\u001b[0m\u001b[0;36m2\u001b[0m\u001b[0;34m)\u001b[0m\u001b[0;34m\u001b[0m\u001b[0;34m\u001b[0m\u001b[0m\n\u001b[0m",
      "\u001b[0;31mAttributeError\u001b[0m: 'list' object has no attribute 'add'"
     ]
    }
   ],
   "source": [
    "id_list.add(2)"
   ]
  },
  {
   "cell_type": "code",
   "execution_count": 159,
   "id": "3a194ea2-eab3-490c-95e9-c09214b3c127",
   "metadata": {},
   "outputs": [
    {
     "data": {
      "text/plain": [
       "['6972623356285681664', '5501916602972504064']"
      ]
     },
     "execution_count": 159,
     "metadata": {},
     "output_type": "execute_result"
    }
   ],
   "source": [
    "#id_list = list()\n",
    "[id_.decode('utf-8')[:19] for id_ in out.splitlines()[1:]]"
   ]
  },
  {
   "cell_type": "code",
   "execution_count": 157,
   "id": "e593fa1e-bfb6-4c62-8fee-fbcc12cb3994",
   "metadata": {},
   "outputs": [
    {
     "data": {
      "text/plain": [
       "['6972623356285681664', '5501916602972504064']"
      ]
     },
     "execution_count": 157,
     "metadata": {},
     "output_type": "execute_result"
    }
   ],
   "source": []
  },
  {
   "cell_type": "code",
   "execution_count": 107,
   "id": "03c0c832-15e8-46a4-8926-8a4b77bb9064",
   "metadata": {},
   "outputs": [
    {
     "ename": "TypeError",
     "evalue": "a bytes-like object is required, not 'str'",
     "output_type": "error",
     "traceback": [
      "\u001b[0;31m---------------------------------------------------------------------------\u001b[0m",
      "\u001b[0;31mTypeError\u001b[0m                                 Traceback (most recent call last)",
      "\u001b[0;32m/tmp/ipykernel_30421/2945974084.py\u001b[0m in \u001b[0;36m<module>\u001b[0;34m\u001b[0m\n\u001b[0;32m----> 1\u001b[0;31m \u001b[0mspl\u001b[0m \u001b[0;34m=\u001b[0m \u001b[0;34m[\u001b[0m\u001b[0mele\u001b[0m\u001b[0;34m.\u001b[0m\u001b[0msplit\u001b[0m\u001b[0;34m(\u001b[0m\u001b[0;34m\":\"\u001b[0m\u001b[0;34m,\u001b[0m\u001b[0;36m1\u001b[0m\u001b[0;34m)\u001b[0m\u001b[0;32mfor\u001b[0m \u001b[0mele\u001b[0m \u001b[0;32min\u001b[0m \u001b[0mout\u001b[0m\u001b[0;34m.\u001b[0m\u001b[0msplitlines\u001b[0m\u001b[0;34m(\u001b[0m\u001b[0;34m)\u001b[0m\u001b[0;34m]\u001b[0m\u001b[0;34m\u001b[0m\u001b[0;34m\u001b[0m\u001b[0m\n\u001b[0m\u001b[1;32m      2\u001b[0m \u001b[0md\u001b[0m \u001b[0;34m=\u001b[0m \u001b[0;34m{\u001b[0m\u001b[0mk\u001b[0m\u001b[0;34m.\u001b[0m\u001b[0mrstrip\u001b[0m\u001b[0;34m(\u001b[0m\u001b[0;34m)\u001b[0m\u001b[0;34m:\u001b[0m\u001b[0mv\u001b[0m\u001b[0;34m.\u001b[0m\u001b[0mlstrip\u001b[0m\u001b[0;34m(\u001b[0m\u001b[0;34m)\u001b[0m \u001b[0;32mfor\u001b[0m \u001b[0mk\u001b[0m\u001b[0;34m,\u001b[0m\u001b[0mv\u001b[0m \u001b[0;32min\u001b[0m \u001b[0mspl\u001b[0m\u001b[0;34m}\u001b[0m\u001b[0;34m\u001b[0m\u001b[0;34m\u001b[0m\u001b[0m\n",
      "\u001b[0;32m/tmp/ipykernel_30421/2945974084.py\u001b[0m in \u001b[0;36m<listcomp>\u001b[0;34m(.0)\u001b[0m\n\u001b[0;32m----> 1\u001b[0;31m \u001b[0mspl\u001b[0m \u001b[0;34m=\u001b[0m \u001b[0;34m[\u001b[0m\u001b[0mele\u001b[0m\u001b[0;34m.\u001b[0m\u001b[0msplit\u001b[0m\u001b[0;34m(\u001b[0m\u001b[0;34m\":\"\u001b[0m\u001b[0;34m,\u001b[0m\u001b[0;36m1\u001b[0m\u001b[0;34m)\u001b[0m\u001b[0;32mfor\u001b[0m \u001b[0mele\u001b[0m \u001b[0;32min\u001b[0m \u001b[0mout\u001b[0m\u001b[0;34m.\u001b[0m\u001b[0msplitlines\u001b[0m\u001b[0;34m(\u001b[0m\u001b[0;34m)\u001b[0m\u001b[0;34m]\u001b[0m\u001b[0;34m\u001b[0m\u001b[0;34m\u001b[0m\u001b[0m\n\u001b[0m\u001b[1;32m      2\u001b[0m \u001b[0md\u001b[0m \u001b[0;34m=\u001b[0m \u001b[0;34m{\u001b[0m\u001b[0mk\u001b[0m\u001b[0;34m.\u001b[0m\u001b[0mrstrip\u001b[0m\u001b[0;34m(\u001b[0m\u001b[0;34m)\u001b[0m\u001b[0;34m:\u001b[0m\u001b[0mv\u001b[0m\u001b[0;34m.\u001b[0m\u001b[0mlstrip\u001b[0m\u001b[0;34m(\u001b[0m\u001b[0;34m)\u001b[0m \u001b[0;32mfor\u001b[0m \u001b[0mk\u001b[0m\u001b[0;34m,\u001b[0m\u001b[0mv\u001b[0m \u001b[0;32min\u001b[0m \u001b[0mspl\u001b[0m\u001b[0;34m}\u001b[0m\u001b[0;34m\u001b[0m\u001b[0;34m\u001b[0m\u001b[0m\n",
      "\u001b[0;31mTypeError\u001b[0m: a bytes-like object is required, not 'str'"
     ]
    }
   ],
   "source": [
    "spl = [ele.split(\":\",1)for ele in out.splitlines()]\n",
    "d = {k.rstrip():v.lstrip() for k,v in spl}"
   ]
  },
  {
   "cell_type": "code",
   "execution_count": 97,
   "id": "4d1a73dd-e84c-469a-b729-b8b2ebd95030",
   "metadata": {},
   "outputs": [
    {
     "ename": "FileNotFoundError",
     "evalue": "[Errno 2] No such file or directory: 'gcloud ai models list --region us-central1': 'gcloud ai models list --region us-central1'",
     "output_type": "error",
     "traceback": [
      "\u001b[0;31m---------------------------------------------------------------------------\u001b[0m",
      "\u001b[0;31mFileNotFoundError\u001b[0m                         Traceback (most recent call last)",
      "\u001b[0;32m/tmp/ipykernel_30421/2200690640.py\u001b[0m in \u001b[0;36m<module>\u001b[0;34m\u001b[0m\n\u001b[1;32m      1\u001b[0m \u001b[0;32mimport\u001b[0m \u001b[0msubprocess\u001b[0m\u001b[0;34m\u001b[0m\u001b[0;34m\u001b[0m\u001b[0m\n\u001b[0;32m----> 2\u001b[0;31m \u001b[0mchild\u001b[0m \u001b[0;34m=\u001b[0m \u001b[0msubprocess\u001b[0m\u001b[0;34m.\u001b[0m\u001b[0mPopen\u001b[0m\u001b[0;34m(\u001b[0m\u001b[0;34m'gcloud ai models list --region us-central1'\u001b[0m\u001b[0;34m,\u001b[0m\u001b[0mstdout\u001b[0m\u001b[0;34m=\u001b[0m\u001b[0msubprocess\u001b[0m\u001b[0;34m.\u001b[0m\u001b[0mPIPE\u001b[0m\u001b[0;34m)\u001b[0m\u001b[0;34m\u001b[0m\u001b[0;34m\u001b[0m\u001b[0m\n\u001b[0m\u001b[1;32m      3\u001b[0m \u001b[0mmsg\u001b[0m\u001b[0;34m,\u001b[0m\u001b[0merr\u001b[0m \u001b[0;34m=\u001b[0m \u001b[0mchild\u001b[0m\u001b[0;34m.\u001b[0m\u001b[0mcommunicate\u001b[0m\u001b[0;34m(\u001b[0m\u001b[0;34m)\u001b[0m\u001b[0;34m\u001b[0m\u001b[0;34m\u001b[0m\u001b[0m\n\u001b[1;32m      4\u001b[0m \u001b[0mprint\u001b[0m\u001b[0;34m(\u001b[0m\u001b[0mmsg\u001b[0m\u001b[0;34m.\u001b[0m\u001b[0msplit\u001b[0m\u001b[0;34m(\u001b[0m\u001b[0;34m)\u001b[0m\u001b[0;34m)\u001b[0m\u001b[0;34m\u001b[0m\u001b[0;34m\u001b[0m\u001b[0m\n",
      "\u001b[0;32m/opt/conda/lib/python3.7/subprocess.py\u001b[0m in \u001b[0;36m__init__\u001b[0;34m(self, args, bufsize, executable, stdin, stdout, stderr, preexec_fn, close_fds, shell, cwd, env, universal_newlines, startupinfo, creationflags, restore_signals, start_new_session, pass_fds, encoding, errors, text)\u001b[0m\n\u001b[1;32m    798\u001b[0m                                 \u001b[0mc2pread\u001b[0m\u001b[0;34m,\u001b[0m \u001b[0mc2pwrite\u001b[0m\u001b[0;34m,\u001b[0m\u001b[0;34m\u001b[0m\u001b[0;34m\u001b[0m\u001b[0m\n\u001b[1;32m    799\u001b[0m                                 \u001b[0merrread\u001b[0m\u001b[0;34m,\u001b[0m \u001b[0merrwrite\u001b[0m\u001b[0;34m,\u001b[0m\u001b[0;34m\u001b[0m\u001b[0;34m\u001b[0m\u001b[0m\n\u001b[0;32m--> 800\u001b[0;31m                                 restore_signals, start_new_session)\n\u001b[0m\u001b[1;32m    801\u001b[0m         \u001b[0;32mexcept\u001b[0m\u001b[0;34m:\u001b[0m\u001b[0;34m\u001b[0m\u001b[0;34m\u001b[0m\u001b[0m\n\u001b[1;32m    802\u001b[0m             \u001b[0;31m# Cleanup if the child failed starting.\u001b[0m\u001b[0;34m\u001b[0m\u001b[0;34m\u001b[0m\u001b[0;34m\u001b[0m\u001b[0m\n",
      "\u001b[0;32m/opt/conda/lib/python3.7/subprocess.py\u001b[0m in \u001b[0;36m_execute_child\u001b[0;34m(self, args, executable, preexec_fn, close_fds, pass_fds, cwd, env, startupinfo, creationflags, shell, p2cread, p2cwrite, c2pread, c2pwrite, errread, errwrite, restore_signals, start_new_session)\u001b[0m\n\u001b[1;32m   1549\u001b[0m                         \u001b[0;32mif\u001b[0m \u001b[0merrno_num\u001b[0m \u001b[0;34m==\u001b[0m \u001b[0merrno\u001b[0m\u001b[0;34m.\u001b[0m\u001b[0mENOENT\u001b[0m\u001b[0;34m:\u001b[0m\u001b[0;34m\u001b[0m\u001b[0;34m\u001b[0m\u001b[0m\n\u001b[1;32m   1550\u001b[0m                             \u001b[0merr_msg\u001b[0m \u001b[0;34m+=\u001b[0m \u001b[0;34m': '\u001b[0m \u001b[0;34m+\u001b[0m \u001b[0mrepr\u001b[0m\u001b[0;34m(\u001b[0m\u001b[0merr_filename\u001b[0m\u001b[0;34m)\u001b[0m\u001b[0;34m\u001b[0m\u001b[0;34m\u001b[0m\u001b[0m\n\u001b[0;32m-> 1551\u001b[0;31m                     \u001b[0;32mraise\u001b[0m \u001b[0mchild_exception_type\u001b[0m\u001b[0;34m(\u001b[0m\u001b[0merrno_num\u001b[0m\u001b[0;34m,\u001b[0m \u001b[0merr_msg\u001b[0m\u001b[0;34m,\u001b[0m \u001b[0merr_filename\u001b[0m\u001b[0;34m)\u001b[0m\u001b[0;34m\u001b[0m\u001b[0;34m\u001b[0m\u001b[0m\n\u001b[0m\u001b[1;32m   1552\u001b[0m                 \u001b[0;32mraise\u001b[0m \u001b[0mchild_exception_type\u001b[0m\u001b[0;34m(\u001b[0m\u001b[0merr_msg\u001b[0m\u001b[0;34m)\u001b[0m\u001b[0;34m\u001b[0m\u001b[0;34m\u001b[0m\u001b[0m\n\u001b[1;32m   1553\u001b[0m \u001b[0;34m\u001b[0m\u001b[0m\n",
      "\u001b[0;31mFileNotFoundError\u001b[0m: [Errno 2] No such file or directory: 'gcloud ai models list --region us-central1': 'gcloud ai models list --region us-central1'"
     ]
    }
   ],
   "source": [
    "import subprocess\n",
    "child = subprocess.check_output('gcloud ai models list --region us-central1',stdout=subprocess.PIPE)\n",
    "msg,err = child.communicate()\n",
    "print(msg.split())"
   ]
  },
  {
   "cell_type": "code",
   "execution_count": 77,
   "id": "d9fae917-6fad-41d0-bc7c-b8a6f938b180",
   "metadata": {
    "collapsed": true,
    "jupyter": {
     "outputs_hidden": true
    },
    "tags": []
   },
   "outputs": [
    {
     "name": "stdout",
     "output_type": "stream",
     "text": [
      "evaluations: ListModelEvaluationsPager<model_evaluations {\n",
      "  name: \"projects/437739257142/locations/us-central1/models/5501916602972504064@1/evaluations/4178755539673042251\"\n",
      "  metrics_schema_uri: \"gs://google-cloud-aiplatform/schema/modelevaluation/regression_metrics_1.0.0.yaml\"\n",
      "  metrics {\n",
      "    struct_value {\n",
      "      fields {\n",
      "        key: \"meanAbsoluteError\"\n",
      "        value {\n",
      "          number_value: 0.00091808115\n",
      "        }\n",
      "      }\n",
      "      fields {\n",
      "        key: \"meanAbsolutePercentageError\"\n",
      "        value {\n",
      "          number_value: 0.074436\n",
      "        }\n",
      "      }\n",
      "      fields {\n",
      "        key: \"rSquared\"\n",
      "        value {\n",
      "          number_value: 0.99997556\n",
      "        }\n",
      "      }\n",
      "      fields {\n",
      "        key: \"rootMeanSquaredError\"\n",
      "        value {\n",
      "          number_value: 0.0063788965\n",
      "        }\n",
      "      }\n",
      "      fields {\n",
      "        key: \"rootMeanSquaredLogError\"\n",
      "        value {\n",
      "          number_value: 0.0025396352\n",
      "        }\n",
      "      }\n",
      "    }\n",
      "  }\n",
      "  create_time {\n",
      "    seconds: 1667219966\n",
      "    nanos: 730724000\n",
      "  }\n",
      "  slice_dimensions: \"annotationSpec\"\n",
      "  model_explanation {\n",
      "    mean_attributions {\n",
      "      feature_attributions {\n",
      "        struct_value {\n",
      "          fields {\n",
      "            key: \"latitude\"\n",
      "            value {\n",
      "              number_value: 0.00044554688271959437\n",
      "            }\n",
      "          }\n",
      "          fields {\n",
      "            key: \"longitude\"\n",
      "            value {\n",
      "              number_value: 0.0028700998876331693\n",
      "            }\n",
      "          }\n",
      "          fields {\n",
      "            key: \"meter_increment\"\n",
      "            value {\n",
      "              number_value: 0.0027890591647118973\n",
      "            }\n",
      "          }\n",
      "          fields {\n",
      "            key: \"meter_reading\"\n",
      "            value {\n",
      "              number_value: 0.01679891021263344\n",
      "            }\n",
      "          }\n",
      "          fields {\n",
      "            key: \"point_idx\"\n",
      "            value {\n",
      "              number_value: 0.016027929916103113\n",
      "            }\n",
      "          }\n",
      "          fields {\n",
      "            key: \"ride_id\"\n",
      "            value {\n",
      "              number_value: 0.6378683233430833\n",
      "            }\n",
      "          }\n",
      "          fields {\n",
      "            key: \"ride_status\"\n",
      "            value {\n",
      "              number_value: 8.138040696563766e-05\n",
      "            }\n",
      "          }\n",
      "          fields {\n",
      "            key: \"timestamp\"\n",
      "            value {\n",
      "              number_value: 2.3307307724730212e-07\n",
      "            }\n",
      "          }\n",
      "        }\n",
      "      }\n",
      "    }\n",
      "  }\n",
      "}\n",
      ">\n"
     ]
    }
   ],
   "source": [
    "model_client = aiplatform.gapic.ModelServiceClient(\n",
    "    client_options={\n",
    "        'api_endpoint':f'{location}-aiplatform.googleapis.com'\n",
    "        }\n",
    "    )\n",
    "evaluations = model_client.list_model_evaluations(parent=f'projects/{project}/locations/{location}/models/5501916602972504064')\n",
    "print(\"evaluations:\", evaluations)"
   ]
  },
  {
   "cell_type": "code",
   "execution_count": 61,
   "id": "ff9de205-439b-4e86-bc1e-0b84e0619ece",
   "metadata": {},
   "outputs": [],
   "source": [
    "dic = dict()\n",
    "for inde, i in enumerate(evaluations.pages):\n",
    "    dic[inde] = i"
   ]
  },
  {
   "cell_type": "code",
   "execution_count": 95,
   "id": "ace2fa8c-e138-4c55-9013-92e5aaea58b8",
   "metadata": {},
   "outputs": [
    {
     "data": {
      "text/plain": [
       "'projects/437739257142/locations/us-central1/models/5501916602972504064@1/evaluations/4178755539673042251'"
      ]
     },
     "execution_count": 95,
     "metadata": {},
     "output_type": "execute_result"
    }
   ],
   "source": [
    "evaluations.model_evaluations[0].name"
   ]
  },
  {
   "cell_type": "code",
   "execution_count": 93,
   "id": "6496482e-47ef-4c99-962c-50f784cef02c",
   "metadata": {},
   "outputs": [
    {
     "data": {
      "text/plain": [
       "{'meanAbsolutePercentageError': 0.074436,\n",
       " 'meanAbsoluteError': 0.00091808115,\n",
       " 'rootMeanSquaredError': 0.0063788965,\n",
       " 'rootMeanSquaredLogError': 0.0025396352,\n",
       " 'rSquared': 0.99997556}"
      ]
     },
     "execution_count": 93,
     "metadata": {},
     "output_type": "execute_result"
    }
   ],
   "source": [
    "dict(evaluations.model_evaluations[0].metrics)"
   ]
  },
  {
   "cell_type": "code",
   "execution_count": 33,
   "id": "e97897a2-f6c8-4ece-92d8-3e7ac601083d",
   "metadata": {},
   "outputs": [],
   "source": [
    "from typing import Dict\n",
    "def load_dict(filepath: str) -> Dict:\n",
    "    \"\"\"Load a dictionary from a JSON's filepath.\n",
    "    Args:\n",
    "        filepath (str): JSON's filepath.\n",
    "    Returns:\n",
    "        A dictionary with the data loaded.\n",
    "    \"\"\"\n",
    "    with open(filepath) as fp:\n",
    "        d = json.load(fp)\n",
    "    return d"
   ]
  },
  {
   "cell_type": "code",
   "execution_count": 31,
   "id": "36fbdb42-39da-44ed-ad62-56f8f61e54cf",
   "metadata": {},
   "outputs": [
    {
     "name": "stdout",
     "output_type": "stream",
     "text": [
      "response: name: \"projects/437739257142/locations/us-central1/models/5501916602972504064@1/evaluations/4178755539673042251\"\n",
      "metrics_schema_uri: \"gs://google-cloud-aiplatform/schema/modelevaluation/regression_metrics_1.0.0.yaml\"\n",
      "metrics {\n",
      "  struct_value {\n",
      "    fields {\n",
      "      key: \"meanAbsoluteError\"\n",
      "      value {\n",
      "        number_value: 0.00091808115\n",
      "      }\n",
      "    }\n",
      "    fields {\n",
      "      key: \"meanAbsolutePercentageError\"\n",
      "      value {\n",
      "        number_value: 0.074436\n",
      "      }\n",
      "    }\n",
      "    fields {\n",
      "      key: \"rSquared\"\n",
      "      value {\n",
      "        number_value: 0.99997556\n",
      "      }\n",
      "    }\n",
      "    fields {\n",
      "      key: \"rootMeanSquaredError\"\n",
      "      value {\n",
      "        number_value: 0.0063788965\n",
      "      }\n",
      "    }\n",
      "    fields {\n",
      "      key: \"rootMeanSquaredLogError\"\n",
      "      value {\n",
      "        number_value: 0.0025396352\n",
      "      }\n",
      "    }\n",
      "  }\n",
      "}\n",
      "create_time {\n",
      "  seconds: 1667219966\n",
      "  nanos: 730724000\n",
      "}\n",
      "slice_dimensions: \"annotationSpec\"\n",
      "model_explanation {\n",
      "  mean_attributions {\n",
      "    feature_attributions {\n",
      "      struct_value {\n",
      "        fields {\n",
      "          key: \"latitude\"\n",
      "          value {\n",
      "            number_value: 0.00044554688271959437\n",
      "          }\n",
      "        }\n",
      "        fields {\n",
      "          key: \"longitude\"\n",
      "          value {\n",
      "            number_value: 0.0028700998876331693\n",
      "          }\n",
      "        }\n",
      "        fields {\n",
      "          key: \"meter_increment\"\n",
      "          value {\n",
      "            number_value: 0.0027890591647118973\n",
      "          }\n",
      "        }\n",
      "        fields {\n",
      "          key: \"meter_reading\"\n",
      "          value {\n",
      "            number_value: 0.01679891021263344\n",
      "          }\n",
      "        }\n",
      "        fields {\n",
      "          key: \"point_idx\"\n",
      "          value {\n",
      "            number_value: 0.016027929916103113\n",
      "          }\n",
      "        }\n",
      "        fields {\n",
      "          key: \"ride_id\"\n",
      "          value {\n",
      "            number_value: 0.6378683233430833\n",
      "          }\n",
      "        }\n",
      "        fields {\n",
      "          key: \"ride_status\"\n",
      "          value {\n",
      "            number_value: 8.138040696563766e-05\n",
      "          }\n",
      "        }\n",
      "        fields {\n",
      "          key: \"timestamp\"\n",
      "          value {\n",
      "            number_value: 2.3307307724730212e-07\n",
      "          }\n",
      "        }\n",
      "      }\n",
      "    }\n",
      "  }\n",
      "}\n",
      "\n"
     ]
    }
   ],
   "source": [
    "get_model_evaluation_tabular_classification_sample(project=project,\n",
    "                                                  model_id = \"5501916602972504064\",\n",
    "                                                  evaluation_id=\"4178755539673042251\")"
   ]
  },
  {
   "cell_type": "code",
   "execution_count": 163,
   "id": "73949faa-5c58-445b-80e4-42d2257c4e3b",
   "metadata": {},
   "outputs": [],
   "source": [
    "#ENDPOINT\n",
    "\n",
    "from google.cloud import aiplatform\n",
    "\n",
    "\n",
    "def create_endpoint_sample(\n",
    "    project: str,\n",
    "    display_name: str,\n",
    "    location: str = \"us-central1\",\n",
    "    api_endpoint: str = \"us-central1-aiplatform.googleapis.com\",\n",
    "    timeout: int = 300,\n",
    "):\n",
    "    # The AI Platform services require regional API endpoints.\n",
    "    client_options = {\"api_endpoint\": api_endpoint}\n",
    "    # Initialize client that will be used to create and send requests.\n",
    "    # This client only needs to be created once, and can be reused for multiple requests.\n",
    "    client = aiplatform.gapic.EndpointServiceClient(client_options=client_options)\n",
    "    endpoint = {\"display_name\": display_name}\n",
    "    parent = f\"projects/{project}/locations/{location}\"\n",
    "    response = client.create_endpoint(parent=parent, endpoint=endpoint)\n",
    "    print(\"Long running operation:\", response.operation.name)\n",
    "    create_endpoint_response = response.result(timeout=timeout)\n",
    "    print(\"create_endpoint_response:\", create_endpoint_response)\n"
   ]
  },
  {
   "cell_type": "code",
   "execution_count": 164,
   "id": "9addd075-3489-4028-ace6-03ea657645a6",
   "metadata": {},
   "outputs": [
    {
     "name": "stdout",
     "output_type": "stream",
     "text": [
      "Long running operation: projects/437739257142/locations/us-central1/endpoints/8726502732262801408/operations/2483217668115529728\n",
      "create_endpoint_response: name: \"projects/437739257142/locations/us-central1/endpoints/8726502732262801408\"\n",
      "\n"
     ]
    }
   ],
   "source": [
    "create_endpoint_sample(project=\"project-daisuke-318402\", display_name=\"end22\")"
   ]
  },
  {
   "cell_type": "code",
   "execution_count": 166,
   "id": "c78d8786-9d81-4a22-988e-7e15b0b4cd94",
   "metadata": {},
   "outputs": [
    {
     "name": "stdout",
     "output_type": "stream",
     "text": [
      "Using endpoint [https://us-central1-aiplatform.googleapis.com/]\n",
      "ENDPOINT_ID          DISPLAY_NAME\n",
      "8726502732262801408  end22\n",
      "5174851476127744000  example_20221104020441\n"
     ]
    }
   ],
   "source": [
    "!gcloud ai endpoints list \\\n",
    "    --region=us-central1 "
   ]
  },
  {
   "cell_type": "code",
   "execution_count": 167,
   "id": "2184c520-2093-4d3a-8abc-7f550e16a40c",
   "metadata": {},
   "outputs": [
    {
     "name": "stderr",
     "output_type": "stream",
     "text": [
      "Using endpoint [https://us-central1-aiplatform.googleapis.com/]\n"
     ]
    }
   ],
   "source": [
    "out = subprocess.check_output(['gcloud ai endpoints list --region=us-central1 '], shell=True)"
   ]
  },
  {
   "cell_type": "code",
   "execution_count": 169,
   "id": "1cfcb5ee-e0f6-432e-bf44-fbddc976b149",
   "metadata": {},
   "outputs": [
    {
     "data": {
      "text/plain": [
       "['8726502732262801408', '5174851476127744000']"
      ]
     },
     "execution_count": 169,
     "metadata": {},
     "output_type": "execute_result"
    }
   ],
   "source": [
    "[id_.decode('utf-8')[:19] for id_ in out.splitlines()[1:]]"
   ]
  },
  {
   "cell_type": "code",
   "execution_count": null,
   "id": "bb090004-0386-4fa0-8118-0d754adbdf4e",
   "metadata": {},
   "outputs": [],
   "source": [
    "#DEPLOY \n",
    "from google.cloud import aiplatform\n",
    "\n",
    "\n",
    "def deploy_model_sample(\n",
    "    project: str,\n",
    "    endpoint_id: str,\n",
    "    model_name: str,\n",
    "    deployed_model_display_name: str,\n",
    "    location: str = \"us-central1\",\n",
    "    api_endpoint: str = \"us-central1-aiplatform.googleapis.com\",\n",
    "    timeout: int = 7200,\n",
    "):\n",
    "    # The AI Platform services require regional API endpoints.\n",
    "    client_options = {\"api_endpoint\": api_endpoint}\n",
    "    # Initialize client that will be used to create and send requests.\n",
    "    # This client only needs to be created once, and can be reused for multiple requests.\n",
    "    client = aiplatform.gapic.EndpointServiceClient(client_options=client_options)\n",
    "    deployed_model = {\n",
    "        # format: 'projects/{project}/locations/{location}/models/{model}'\n",
    "        \"model\": model_name,\n",
    "        \"display_name\": deployed_model_display_name,\n",
    "        # AutoML Vision models require `automatic_resources` field\n",
    "        # Other model types may require `dedicated_resources` field instead\n",
    "        \"automatic_resources\": {\"min_replica_count\": 1, \"max_replica_count\": 1},\n",
    "    }\n",
    "    # key '0' assigns traffic for the newly deployed model\n",
    "    # Traffic percentage values must add up to 100\n",
    "    # Leave dictionary empty if endpoint should not accept any traffic\n",
    "    traffic_split = {\"0\": 100}\n",
    "    endpoint = client.endpoint_path(\n",
    "        project=project, location=location, endpoint=endpoint_id\n",
    "    )\n",
    "    response = client.deploy_model(\n",
    "        endpoint=endpoint, deployed_model=deployed_model, traffic_split=traffic_split\n",
    "    )\n",
    "    print(\"Long running operation:\", response.operation.name)\n",
    "    deploy_model_response = response.result(timeout=timeout)\n",
    "    print(\"deploy_model_response:\", deploy_model_response)\n"
   ]
  },
  {
   "cell_type": "code",
   "execution_count": null,
   "id": "60faaac4-f485-48a1-92b5-8ee8f76603ea",
   "metadata": {},
   "outputs": [],
   "source": [
    "from typing import Dict\n",
    "\n",
    "from google.cloud import aiplatform\n",
    "from google.protobuf import json_format\n",
    "from google.protobuf.struct_pb2 import Value\n",
    "\n",
    "\n",
    "def predict_tabular_regression_sample(\n",
    "    project: str,\n",
    "    endpoint_id: str,\n",
    "    instance_dict: Dict,\n",
    "    location: str = \"us-central1\",\n",
    "    api_endpoint: str = \"us-central1-aiplatform.googleapis.com\",\n",
    "):\n",
    "    # The AI Platform services require regional API endpoints.\n",
    "    client_options = {\"api_endpoint\": api_endpoint}\n",
    "    # Initialize client that will be used to create and send requests.\n",
    "    # This client only needs to be created once, and can be reused for multiple requests.\n",
    "    client = aiplatform.gapic.PredictionServiceClient(client_options=client_options)\n",
    "    # for more info on the instance schema, please use get_model_sample.py\n",
    "    # and look at the yaml found in instance_schema_uri\n",
    "    instance = json_format.ParseDict(instance_dict, Value())\n",
    "    instances = [instance]\n",
    "    parameters_dict = {}\n",
    "    parameters = json_format.ParseDict(parameters_dict, Value())\n",
    "    endpoint = client.endpoint_path(\n",
    "        project=project, location=location, endpoint=endpoint_id\n",
    "    )\n",
    "    response = client.predict(\n",
    "        endpoint=endpoint, instances=instances, parameters=parameters\n",
    "    )\n",
    "    print(\"response\")\n",
    "    print(\" deployed_model_id:\", response.deployed_model_id)\n",
    "    # See gs://google-cloud-aiplatform/schema/predict/prediction/tabular_regression_1.0.0.yaml for the format of the predictions.\n",
    "    predictions = response.predictions\n",
    "    for prediction in predictions:\n",
    "        print(\" prediction:\", dict(prediction))\n"
   ]
  },
  {
   "cell_type": "code",
   "execution_count": null,
   "id": "af9c031b-9a9c-4437-b086-0fd3e3055b8f",
   "metadata": {},
   "outputs": [],
   "source": [
    "# PREDICTION\n",
    "from google.cloud import aiplatform_v1beta1\n",
    "from google.protobuf import json_format\n",
    "from google.protobuf.struct_pb2 import Value\n",
    "\n",
    "\n",
    "def create_batch_prediction_job_bigquery_sample(\n",
    "    project: str,\n",
    "    display_name: str,\n",
    "    model_name: str,\n",
    "    instances_format: str,\n",
    "    bigquery_source_input_uri: str,\n",
    "    predictions_format: str,\n",
    "    bigquery_destination_output_uri: str,\n",
    "    location: str = \"us-central1\",\n",
    "    api_endpoint: str = \"us-central1-aiplatform.googleapis.com\",\n",
    "):\n",
    "    # The AI Platform services require regional API endpoints.\n",
    "    client_options = {\"api_endpoint\": api_endpoint}\n",
    "    # Initialize client that will be used to create and send requests.\n",
    "    # This client only needs to be created once, and can be reused for multiple requests.\n",
    "    client = aiplatform_v1beta1.JobServiceClient(client_options=client_options)\n",
    "    model_parameters_dict = {}\n",
    "    model_parameters = json_format.ParseDict(model_parameters_dict, Value())\n",
    "\n",
    "    batch_prediction_job = {\n",
    "        \"display_name\": display_name,\n",
    "        # Format: 'projects/{project}/locations/{location}/models/{model_id}'\n",
    "        \"model\": model_name,\n",
    "        \"model_parameters\": model_parameters,\n",
    "        \"input_config\": {\n",
    "            \"instances_format\": instances_format,\n",
    "            \"bigquery_source\": {\"input_uri\": bigquery_source_input_uri},\n",
    "        },\n",
    "        \"output_config\": {\n",
    "            \"predictions_format\": predictions_format,\n",
    "            \"bigquery_destination\": {\"output_uri\": bigquery_destination_output_uri},\n",
    "        },\n",
    "        # optional\n",
    "        \"generate_explanation\": True,\n",
    "    }\n",
    "    parent = f\"projects/{project}/locations/{location}\"\n",
    "    response = client.create_batch_prediction_job(\n",
    "        parent=parent, batch_prediction_job=batch_prediction_job\n",
    "    )\n",
    "    print(\"response:\", response)"
   ]
  }
 ],
 "metadata": {
  "environment": {
   "kernel": "python3",
   "name": "tf2-gpu.2-6.m98",
   "type": "gcloud",
   "uri": "gcr.io/deeplearning-platform-release/tf2-gpu.2-6:m98"
  },
  "kernelspec": {
   "display_name": "Python 3",
   "language": "python",
   "name": "python3"
  },
  "language_info": {
   "codemirror_mode": {
    "name": "ipython",
    "version": 3
   },
   "file_extension": ".py",
   "mimetype": "text/x-python",
   "name": "python",
   "nbconvert_exporter": "python",
   "pygments_lexer": "ipython3",
   "version": "3.7.12"
  }
 },
 "nbformat": 4,
 "nbformat_minor": 5
}
